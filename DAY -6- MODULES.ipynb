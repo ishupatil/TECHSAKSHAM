{
 "cells": [
  {
   "cell_type": "code",
   "execution_count": 3,
   "id": "0aae0951-3d8c-4e14-96a9-18810fc76482",
   "metadata": {},
   "outputs": [
    {
     "data": {
      "text/plain": [
       "43.82510611287327"
      ]
     },
     "execution_count": 3,
     "metadata": {},
     "output_type": "execute_result"
    }
   ],
   "source": [
    "import random as rand\n",
    "rand.random()*100"
   ]
  },
  {
   "cell_type": "code",
   "execution_count": 5,
   "id": "bcf2ec29-c269-43cd-8b47-fe4e1a4ce2f5",
   "metadata": {},
   "outputs": [
    {
     "data": {
      "text/plain": [
       "2"
      ]
     },
     "execution_count": 5,
     "metadata": {},
     "output_type": "execute_result"
    }
   ],
   "source": [
    "rand.randint(1,6)"
   ]
  },
  {
   "cell_type": "code",
   "execution_count": 16,
   "id": "a376a285-f34c-4cfd-800b-b29e81a71cbd",
   "metadata": {},
   "outputs": [
    {
     "ename": "AttributeError",
     "evalue": "'int' object has no attribute 'a'",
     "output_type": "error",
     "traceback": [
      "\u001b[1;31m---------------------------------------------------------------------------\u001b[0m",
      "\u001b[1;31mAttributeError\u001b[0m                            Traceback (most recent call last)",
      "Cell \u001b[1;32mIn[16], line 8\u001b[0m\n\u001b[0;32m      6\u001b[0m \u001b[38;5;28;01mdef\u001b[39;00m \u001b[38;5;21mdisplay\u001b[39m(\u001b[38;5;28mself\u001b[39m):\n\u001b[0;32m      7\u001b[0m     \u001b[38;5;28mprint\u001b[39m (\u001b[38;5;124mf\u001b[39m\u001b[38;5;124m\"\u001b[39m\u001b[38;5;124mrandom no. is:\u001b[39m\u001b[38;5;132;01m{\u001b[39;00m\u001b[38;5;28mself\u001b[39m\u001b[38;5;241m.\u001b[39mres\u001b[38;5;132;01m}\u001b[39;00m\u001b[38;5;124m\"\u001b[39m)\n\u001b[1;32m----> 8\u001b[0m r1\u001b[38;5;241m=\u001b[39mrandom(\u001b[38;5;241m1\u001b[39m,\u001b[38;5;241m6\u001b[39m,\u001b[38;5;241m3\u001b[39m)\n\u001b[0;32m      9\u001b[0m r1\u001b[38;5;241m.\u001b[39mdisplay()\n",
      "Cell \u001b[1;32mIn[16], line 2\u001b[0m, in \u001b[0;36mrandom\u001b[1;34m(self, a, b)\u001b[0m\n\u001b[0;32m      1\u001b[0m \u001b[38;5;28;01mdef\u001b[39;00m \u001b[38;5;21mrandom\u001b[39m(\u001b[38;5;28mself\u001b[39m,a,b):\n\u001b[1;32m----> 2\u001b[0m     \u001b[38;5;28mself\u001b[39m\u001b[38;5;241m.\u001b[39ma\u001b[38;5;241m=\u001b[39ma\n\u001b[0;32m      3\u001b[0m     \u001b[38;5;28mself\u001b[39m\u001b[38;5;241m.\u001b[39mb\u001b[38;5;241m=\u001b[39mb\n\u001b[0;32m      4\u001b[0m     res\u001b[38;5;241m=\u001b[39m rand\u001b[38;5;241m.\u001b[39mrandint(\u001b[38;5;241m1\u001b[39m,\u001b[38;5;241m6\u001b[39m)\n",
      "\u001b[1;31mAttributeError\u001b[0m: 'int' object has no attribute 'a'"
     ]
    }
   ],
   "source": [
    "def random(self,a,b):\n",
    "    self.a=a\n",
    "    self.b=b\n",
    "    res= rand.randint(1,6)\n",
    "    return res\n",
    "def display(self):\n",
    "    print (f\"random no. is:{self.res}\")\n",
    "r1=random(1,6,3)\n",
    "r1.display()\n",
    "    "
   ]
  },
  {
   "cell_type": "code",
   "execution_count": 76,
   "id": "88dd563d-8de7-48d6-b40c-971eb0f12c32",
   "metadata": {},
   "outputs": [
    {
     "name": "stdout",
     "output_type": "stream",
     "text": [
      "The turn to pay the bill is of : om\n"
     ]
    }
   ],
   "source": [
    "import random as rand\n",
    "names=[\"shruti\",\"shreya\",\"om\"]\n",
    "index=rand.randint(0,len(names)-1)\n",
    "no=names[index]\n",
    "print(\"The turn to pay the bill is of :\",no)\n"
   ]
  },
  {
   "cell_type": "code",
   "execution_count": 1,
   "id": "3ae48a65-08e1-49ce-b136-a08a7074abe8",
   "metadata": {},
   "outputs": [
    {
     "name": "stdout",
     "output_type": "stream",
     "text": [
      "Enter your guess between 1 to 9 !!\n",
      "You have 3 chances\n"
     ]
    },
    {
     "name": "stdin",
     "output_type": "stream",
     "text": [
      "Atttempt1:Enter your guess: 1\n"
     ]
    },
    {
     "name": "stdout",
     "output_type": "stream",
     "text": [
      "Oh no, try for the larger no. between 1 to 9:\n"
     ]
    },
    {
     "name": "stdin",
     "output_type": "stream",
     "text": [
      "Atttempt2:Enter your guess: 6\n"
     ]
    },
    {
     "name": "stdout",
     "output_type": "stream",
     "text": [
      "Oh no, try for the larger no. between 1 to 9:\n"
     ]
    },
    {
     "name": "stdin",
     "output_type": "stream",
     "text": [
      "Atttempt3:Enter your guess: 8\n"
     ]
    },
    {
     "name": "stdout",
     "output_type": "stream",
     "text": [
      "Yay! its a correct guess\n"
     ]
    }
   ],
   "source": [
    "#Guessing no. game \n",
    "import random as rand\n",
    "\n",
    "\n",
    "num=rand.randint(1,9)\n",
    "chances=3\n",
    "print(\"Enter your guess between 1 to 9 !!\\nYou have 3 chances\")\n",
    "\n",
    "\n",
    "for i in range(chances):\n",
    "    n=int(input(f\"Atttempt{i+1}:Enter your guess:\"))\n",
    "    if n==num:\n",
    "        print(\"Yay! its a correct guess\")\n",
    "        break\n",
    "    elif n<num:\n",
    "          print(\"Oh no, try for the larger no. between 1 to 9:\")\n",
    "    \n",
    "    elif n>num:\n",
    "          print(\"Oh no,try for the smaller no.between 1 to 9:\")\n",
    "else:\n",
    "    print(f\"Sorry, you've used all {chances} attempts. The correct number was {num}.\")\n"
   ]
  },
  {
   "cell_type": "code",
   "execution_count": null,
   "id": "9a65ba5f-99b0-4445-b6d0-8098406bd794",
   "metadata": {},
   "outputs": [],
   "source": []
  },
  {
   "cell_type": "code",
   "execution_count": null,
   "id": "4dafa73f-60bb-4ccd-91a1-40a3e3097291",
   "metadata": {},
   "outputs": [],
   "source": []
  }
 ],
 "metadata": {
  "kernelspec": {
   "display_name": "Python 3 (ipykernel)",
   "language": "python",
   "name": "python3"
  },
  "language_info": {
   "codemirror_mode": {
    "name": "ipython",
    "version": 3
   },
   "file_extension": ".py",
   "mimetype": "text/x-python",
   "name": "python",
   "nbconvert_exporter": "python",
   "pygments_lexer": "ipython3",
   "version": "3.12.4"
  }
 },
 "nbformat": 4,
 "nbformat_minor": 5
}
