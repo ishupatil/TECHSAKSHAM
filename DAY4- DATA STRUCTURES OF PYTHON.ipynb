{
 "cells": [
  {
   "cell_type": "code",
   "execution_count": 7,
   "id": "483df32b-a784-4fbe-a282-4b7e2e1d568b",
   "metadata": {},
   "outputs": [
    {
     "ename": "SyntaxError",
     "evalue": "invalid syntax. Perhaps you forgot a comma? (2028777196.py, line 2)",
     "output_type": "error",
     "traceback": [
      "\u001b[1;36m  Cell \u001b[1;32mIn[7], line 2\u001b[1;36m\u001b[0m\n\u001b[1;33m    s={stud1:{\u001b[0m\n\u001b[1;37m             ^\u001b[0m\n\u001b[1;31mSyntaxError\u001b[0m\u001b[1;31m:\u001b[0m invalid syntax. Perhaps you forgot a comma?\n"
     ]
    }
   ],
   "source": [
    "#nested dictionary\n",
    "s={stud1:{\n",
    "    age:12,\n",
    "    rollno:2\n",
    "}\n",
    "  stud2:{\n",
    "    age:23,\n",
    "    rollno:3\n",
    "}\n",
    "}\n",
    "s['stud1']['age']\n",
    "\n"
   ]
  },
  {
   "cell_type": "code",
   "execution_count": 9,
   "id": "ea50b6e1-98be-4986-8e5d-774c564d704d",
   "metadata": {},
   "outputs": [],
   "source": [
    "list1=[1,2,3,4,5]\n",
    "list2=[3,4,5,6,7]\n"
   ]
  },
  {
   "cell_type": "code",
   "execution_count": 23,
   "id": "a77e8fbb-5d71-457d-ab08-351b8cb03111",
   "metadata": {},
   "outputs": [],
   "source": [
    "list1=list2\n"
   ]
  },
  {
   "cell_type": "code",
   "execution_count": 25,
   "id": "595dd09c-b9ac-4045-b6ac-f51ee8aa1972",
   "metadata": {},
   "outputs": [
    {
     "data": {
      "text/plain": [
       "[3, 4, 5, 6, 7]"
      ]
     },
     "execution_count": 25,
     "metadata": {},
     "output_type": "execute_result"
    }
   ],
   "source": [
    "list2\n"
   ]
  },
  {
   "cell_type": "code",
   "execution_count": 27,
   "id": "93fb1a04-1362-446b-8b16-f0432a853019",
   "metadata": {},
   "outputs": [
    {
     "data": {
      "text/plain": [
       "[3, 4, 5, 6, 7]"
      ]
     },
     "execution_count": 27,
     "metadata": {},
     "output_type": "execute_result"
    }
   ],
   "source": [
    "list1"
   ]
  },
  {
   "cell_type": "code",
   "execution_count": null,
   "id": "ca88a73e-99d2-42f6-b48d-d16b522eaf02",
   "metadata": {},
   "outputs": [],
   "source": [
    "\n",
    "#password validation using buildin functions\n",
    "def validate(password):\n",
    "    if not (8<=len(password)<=16):\n",
    "        return \"Invalid :length must be between 8 and 16 characters\"\n",
    "    if not any(c.isalpha()for c in password):\n",
    "        return \"Invalid:Must conatin atleast one letter\"\n",
    "    if not any(c.isdigit()for c in password):\n",
    "        return \"Invalid:Must contain atleast one number\"\n",
    "    if not any(c.isalnum() for c in password):\n",
    "        return \"Invalid:Must contain special characters\"\n",
    "    return\"Valid password\"\n",
    "while True:\n",
    "    password=input(\"Enter password:\")\n",
    "    result=validate(password)\n",
    "    print(result)\n",
    "    if result==\"Valid password\":\n",
    "        break\n",
    "    \n",
    "    "
   ]
  },
  {
   "cell_type": "code",
   "execution_count": 4,
   "id": "fcc4b4cd-9607-454b-85a8-978b62ac1dfd",
   "metadata": {},
   "outputs": [
    {
     "name": "stdin",
     "output_type": "stream",
     "text": [
      "Enter first number:  2\n",
      "Enter second number:  3\n",
      "Enter third number:  4\n"
     ]
    },
    {
     "name": "stdout",
     "output_type": "stream",
     "text": [
      "Sum of non-duplicate numbers: 9\n"
     ]
    }
   ],
   "source": [
    "#sum of non duplicate nos using sets\n",
    "\n",
    "def sum_of_non_duplicates(a, b, c):\n",
    "    num_set = {a, b, c}\n",
    "    duplicate_set = {x for x in (a, b, c) if (a, b, c).count(x) > 1}\n",
    "    return sum(num_set - duplicate_set)\n",
    "\n",
    "\n",
    "num1 = int(input(\"Enter first number: \"))\n",
    "num2 = int(input(\"Enter second number: \"))\n",
    "num3 = int(input(\"Enter third number: \"))\n",
    "\n",
    "\n",
    "result = sum_of_non_duplicates(num1, num2, num3)\n",
    "print(\"Sum of non-duplicate numbers:\", result)\n"
   ]
  },
  {
   "cell_type": "code",
   "execution_count": null,
   "id": "5796e4aa-f47d-426f-a977-6e47ffb576d0",
   "metadata": {},
   "outputs": [],
   "source": [
    "def sum_duplicates(a,b,c):\n",
    "    numlist=[a,]"
   ]
  },
  {
   "cell_type": "code",
   "execution_count": 6,
   "id": "88f35462-5944-42fc-91e5-09ae472e2d6b",
   "metadata": {},
   "outputs": [
    {
     "name": "stdin",
     "output_type": "stream",
     "text": [
      "Enter three numbers separated by commas:  2,3,4\n"
     ]
    },
    {
     "name": "stdout",
     "output_type": "stream",
     "text": [
      "Sum of non-duplicate numbers: 9\n"
     ]
    }
   ],
   "source": [
    "def sum_of_non_duplicates(a, b, c):\n",
    "    return sum(x for x in (a, b, c) if (a, b, c).count(x) == 1)\n",
    "a, b, c = eval(input(\"Enter three numbers separated by commas: \"))\n",
    "print(\"Sum of non-duplicate numbers:\", sum_of_non_duplicates(a, b, c))"
   ]
  },
  {
   "cell_type": "code",
   "execution_count": 32,
   "id": "ad6abb4b-4aeb-4172-9f66-6a1280fca29d",
   "metadata": {},
   "outputs": [
    {
     "name": "stdin",
     "output_type": "stream",
     "text": [
      "enter a string asdfweeerrr\n",
      "enter the character which you want to count: r\n"
     ]
    },
    {
     "name": "stdout",
     "output_type": "stream",
     "text": [
      "Count: 3\n"
     ]
    }
   ],
   "source": [
    "string= input(\"enter a string\")\n",
    "count=0\n",
    "char=input(\"enter the character which you want to count:\")\n",
    "for c in string:\n",
    "    if c==char:\n",
    "       count=count+1\n",
    "print(\"Count:\",count)\n",
    "\n"
   ]
  },
  {
   "cell_type": "code",
   "execution_count": 14,
   "id": "1ec9b44a-0f1f-42b9-807b-1fe9e16c30ed",
   "metadata": {},
   "outputs": [
    {
     "name": "stdin",
     "output_type": "stream",
     "text": [
      "enter a number: 15\n"
     ]
    },
    {
     "name": "stdout",
     "output_type": "stream",
     "text": [
      "FizzBuzz\n"
     ]
    }
   ],
   "source": [
    "num=int(input(\"enter a number:\"))\n",
    "for n in range(num,num+1):\n",
    "    if num % 3==0 and num % 5==0:\n",
    "        print(\"FizzBuzz\")\n",
    "    elif num % 5==0:\n",
    "        print(\"Buzz\")\n",
    "    elif num % 3==0:\n",
    "        print(\"Fizz\")\n",
    "    \n",
    "    else:\n",
    "        print(num)\n",
    "\n",
    "\n",
    "\n"
   ]
  },
  {
   "cell_type": "code",
   "execution_count": 1,
   "id": "8c743d35-efab-48ee-a6fb-a04b07405cdb",
   "metadata": {},
   "outputs": [
    {
     "name": "stdin",
     "output_type": "stream",
     "text": [
      "Enter password length:  5\n"
     ]
    },
    {
     "name": "stdout",
     "output_type": "stream",
     "text": [
      "Generated password: /Pv$J\n"
     ]
    }
   ],
   "source": [
    "import random as rand\n",
    "\n",
    "def generate_password(length):\n",
    "    new = \"\"  # Initialize new as an empty string\n",
    "\n",
    "    for i in range(length):\n",
    "        ascii_code = chr(rand.randint(33, 126))  # Generate a random character\n",
    "        new += ascii_code  # Append the character to new\n",
    "\n",
    "    return new  # Return the full password after the loop\n",
    "\n",
    "# Get user input\n",
    "length = int(input(\"Enter password length: \"))\n",
    "print(\"Generated password:\", generate_password(length))\n"
   ]
  },
  {
   "cell_type": "code",
   "execution_count": null,
   "id": "42b513ff-48c7-4873-9a9b-0479f40e8bbf",
   "metadata": {},
   "outputs": [],
   "source": [
    "import random\n",
    "\n",
    "def generate_password(length):\n",
    "    password = \"\"\n",
    "    for _ in range(length):\n",
    "        ascii_code = random.randint(33, 126)  \n",
    "        password += chr(ascii_code)\n",
    "    return password\n",
    "\n",
    "length = int(input(\"Enter password length: \"))\n",
    "print(\"Generated Password:\", generate_password(length))"
   ]
  }
 ],
 "metadata": {
  "kernelspec": {
   "display_name": "Python 3 (ipykernel)",
   "language": "python",
   "name": "python3"
  },
  "language_info": {
   "codemirror_mode": {
    "name": "ipython",
    "version": 3
   },
   "file_extension": ".py",
   "mimetype": "text/x-python",
   "name": "python",
   "nbconvert_exporter": "python",
   "pygments_lexer": "ipython3",
   "version": "3.12.4"
  }
 },
 "nbformat": 4,
 "nbformat_minor": 5
}
