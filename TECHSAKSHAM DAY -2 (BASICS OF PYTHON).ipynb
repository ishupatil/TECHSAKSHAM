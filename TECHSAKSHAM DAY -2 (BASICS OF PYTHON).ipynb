{
 "cells": [
  {
   "cell_type": "code",
   "execution_count": 13,
   "id": "28ab3a87-5127-4a1a-8f69-454af36f9bf8",
   "metadata": {},
   "outputs": [
    {
     "name": "stdout",
     "output_type": "stream",
     "text": [
      "Hello World!\n"
     ]
    }
   ],
   "source": [
    "#Basics of Python\n",
    "\n",
    "print(\"Hello World!\")"
   ]
  },
  {
   "cell_type": "code",
   "execution_count": 15,
   "id": "62b15504-401e-4108-a2a6-ab3d8e9fc675",
   "metadata": {},
   "outputs": [
    {
     "name": "stdout",
     "output_type": "stream",
     "text": [
      "Welcome to WIT\n",
      "I am ISHWAREE PATIL\n",
      " from Sangli\n",
      "\n",
      "\n",
      "it gives a line space\n"
     ]
    }
   ],
   "source": [
    "print (\"Welcome to WIT\")\n",
    "print(\"I am ISHWAREE PATIL\\n from Sangli\")\n",
    "print('\\n')\n",
    "\n",
    "print(\"it gives a line space\")"
   ]
  },
  {
   "cell_type": "code",
   "execution_count": 17,
   "id": "aaa2b7e4-147f-4e6d-97af-a580c72cb206",
   "metadata": {},
   "outputs": [
    {
     "data": {
      "text/plain": [
       "21"
      ]
     },
     "execution_count": 17,
     "metadata": {},
     "output_type": "execute_result"
    }
   ],
   "source": [
    "len(\"hello my name is isha\")\n"
   ]
  },
  {
   "cell_type": "code",
   "execution_count": 21,
   "id": "12f2ff17-e33f-46c6-8213-2902440a0a8f",
   "metadata": {},
   "outputs": [
    {
     "data": {
      "text/plain": [
       "str"
      ]
     },
     "execution_count": 21,
     "metadata": {},
     "output_type": "execute_result"
    }
   ],
   "source": [
    "S=\"WELCOME TO WIT\"\n",
    "type(S)"
   ]
  },
  {
   "cell_type": "code",
   "execution_count": 23,
   "id": "2b78a3f5-24cc-4ceb-adc1-0705996d7228",
   "metadata": {},
   "outputs": [
    {
     "data": {
      "text/plain": [
       "14"
      ]
     },
     "execution_count": 23,
     "metadata": {},
     "output_type": "execute_result"
    }
   ],
   "source": [
    "len(S)"
   ]
  },
  {
   "cell_type": "code",
   "execution_count": 25,
   "id": "13dcf0be-2cc2-47a6-b935-84e13a46ecdf",
   "metadata": {},
   "outputs": [
    {
     "data": {
      "text/plain": [
       "'W'"
      ]
     },
     "execution_count": 25,
     "metadata": {},
     "output_type": "execute_result"
    }
   ],
   "source": [
    "S[0]\n"
   ]
  },
  {
   "cell_type": "code",
   "execution_count": 27,
   "id": "8040a8e1-c1dd-4fea-8f5b-13fa83e0fcb1",
   "metadata": {},
   "outputs": [
    {
     "data": {
      "text/plain": [
       "'T'"
      ]
     },
     "execution_count": 27,
     "metadata": {},
     "output_type": "execute_result"
    }
   ],
   "source": [
    "S[-1]"
   ]
  },
  {
   "cell_type": "code",
   "execution_count": 29,
   "id": "ca9f0a80-1527-4dba-88a5-61c2eb5f22d1",
   "metadata": {},
   "outputs": [
    {
     "data": {
      "text/plain": [
       "'ELCOME TO WIT'"
      ]
     },
     "execution_count": 29,
     "metadata": {},
     "output_type": "execute_result"
    }
   ],
   "source": [
    "S[1:]"
   ]
  },
  {
   "cell_type": "code",
   "execution_count": 37,
   "id": "6ca870a6-4af5-4f68-85f7-3be8c0d6b5b5",
   "metadata": {},
   "outputs": [
    {
     "data": {
      "text/plain": [
       "'WLOET'"
      ]
     },
     "execution_count": 37,
     "metadata": {},
     "output_type": "execute_result"
    }
   ],
   "source": [
    "S[0:10:2]"
   ]
  },
  {
   "cell_type": "code",
   "execution_count": 49,
   "id": "62d58bfd-1bd5-4457-b148-08a18f46634e",
   "metadata": {},
   "outputs": [
    {
     "name": "stdout",
     "output_type": "stream",
     "text": [
      "No expensive is not in S\n"
     ]
    }
   ],
   "source": [
    "if \"Expensive\" not in S:\n",
    "   print(\"No expensive is not in S\")"
   ]
  },
  {
   "cell_type": "code",
   "execution_count": 51,
   "id": "9204516a-6911-47fe-9862-7bea153cc37d",
   "metadata": {},
   "outputs": [
    {
     "data": {
      "text/plain": [
       "'WELCOME TO WIT'"
      ]
     },
     "execution_count": 51,
     "metadata": {},
     "output_type": "execute_result"
    }
   ],
   "source": [
    "S.upper()"
   ]
  },
  {
   "cell_type": "code",
   "execution_count": 55,
   "id": "3e174efe-1d8b-42d5-b3f3-fa05a52046c0",
   "metadata": {},
   "outputs": [
    {
     "data": {
      "text/plain": [
       "'welcome to wit'"
      ]
     },
     "execution_count": 55,
     "metadata": {},
     "output_type": "execute_result"
    }
   ],
   "source": [
    "S.lower()"
   ]
  },
  {
   "cell_type": "code",
   "execution_count": 57,
   "id": "c040a634-c9bc-441d-87b3-17ca065e0c8a",
   "metadata": {},
   "outputs": [
    {
     "data": {
      "text/plain": [
       "['WELCOME', 'TO', 'WIT']"
      ]
     },
     "execution_count": 57,
     "metadata": {},
     "output_type": "execute_result"
    }
   ],
   "source": [
    "S.split()"
   ]
  },
  {
   "cell_type": "code",
   "execution_count": 63,
   "id": "ac484aca-0424-4328-a391-1c7e454a0fdf",
   "metadata": {},
   "outputs": [
    {
     "name": "stdout",
     "output_type": "stream",
     "text": [
      "Enter name here Ishwaree then also Patil\n"
     ]
    }
   ],
   "source": [
    "#.format method\n",
    "print (\"Enter name here {} then also {}\" .format(\"Ishwaree\",\"Patil\"))"
   ]
  },
  {
   "cell_type": "code",
   "execution_count": 65,
   "id": "54a743e1-3f4d-4ad4-bb2b-7f9b5e3052fa",
   "metadata": {},
   "outputs": [
    {
     "name": "stdout",
     "output_type": "stream",
     "text": [
      "The colors are blue,orange,yellow\n"
     ]
    }
   ],
   "source": [
    "print(\"The colors are {0},{1},{2}\".format(\"blue\",\"orange\",\"yellow\"))"
   ]
  },
  {
   "cell_type": "code",
   "execution_count": 69,
   "id": "3e85f7c1-c484-4b93-af74-df73734dba58",
   "metadata": {},
   "outputs": [
    {
     "name": "stdout",
     "output_type": "stream",
     "text": [
      "first object:1,second object:3,Third object:5\n"
     ]
    }
   ],
   "source": [
    "#assigning with keyword\n",
    "print(\"first object:{a},second object:{b},Third object:{c}\".format(a=1,b=3,c=5))"
   ]
  },
  {
   "cell_type": "code",
   "execution_count": 87,
   "id": "676a67b4-5f64-4a33-9f5e-322fbf626641",
   "metadata": {},
   "outputs": [
    {
     "data": {
      "text/plain": [
       "5"
      ]
     },
     "execution_count": 87,
     "metadata": {},
     "output_type": "execute_result"
    }
   ],
   "source": [
    "#LIST IN PYTHON\n",
    "\n",
    "list=[\"edunet\",3,10,2,4.5]\n",
    "len(list)"
   ]
  },
  {
   "cell_type": "code",
   "execution_count": 89,
   "id": "d522ad13-a4b2-406c-8eb1-d3fa6d5763fa",
   "metadata": {},
   "outputs": [
    {
     "data": {
      "text/plain": [
       "'edunet'"
      ]
     },
     "execution_count": 89,
     "metadata": {},
     "output_type": "execute_result"
    }
   ],
   "source": [
    "list[0]"
   ]
  },
  {
   "cell_type": "code",
   "execution_count": 91,
   "id": "84ca4270-5ec0-4b28-a9bb-398b907444cc",
   "metadata": {},
   "outputs": [
    {
     "data": {
      "text/plain": [
       "4.5"
      ]
     },
     "execution_count": 91,
     "metadata": {},
     "output_type": "execute_result"
    }
   ],
   "source": [
    "list[4]"
   ]
  },
  {
   "cell_type": "code",
   "execution_count": 93,
   "id": "ae472c67-3237-40e3-a03e-8821c136bc69",
   "metadata": {},
   "outputs": [
    {
     "data": {
      "text/plain": [
       "['edunet', 3, 10, 2]"
      ]
     },
     "execution_count": 93,
     "metadata": {},
     "output_type": "execute_result"
    }
   ],
   "source": [
    "list[0:4]"
   ]
  },
  {
   "cell_type": "code",
   "execution_count": 85,
   "id": "64e17c2a-137a-4e05-9760-dd6837b057e9",
   "metadata": {},
   "outputs": [
    {
     "data": {
      "text/plain": [
       "[3, 10, 2]"
      ]
     },
     "execution_count": 85,
     "metadata": {},
     "output_type": "execute_result"
    }
   ],
   "source": [
    "list[1:4]\n"
   ]
  },
  {
   "cell_type": "code",
   "execution_count": 95,
   "id": "38b779d2-695c-4118-9a04-6e0db3f7428f",
   "metadata": {},
   "outputs": [
    {
     "data": {
      "text/plain": [
       "['edunet', 3, 10, 2, 4.5, 'name']"
      ]
     },
     "execution_count": 95,
     "metadata": {},
     "output_type": "execute_result"
    }
   ],
   "source": [
    "list+[\"name\"]"
   ]
  },
  {
   "cell_type": "code",
   "execution_count": 99,
   "id": "2f08738b-e459-4306-b0fc-0c0a038be93a",
   "metadata": {},
   "outputs": [
    {
     "data": {
      "text/plain": [
       "['edunet', 3, 10, 2, 4.5, 'class', 'class']"
      ]
     },
     "execution_count": 99,
     "metadata": {},
     "output_type": "execute_result"
    }
   ],
   "source": [
    "list=list+[\"class\"]\n",
    "list"
   ]
  },
  {
   "cell_type": "code",
   "execution_count": 101,
   "id": "5db9730d-759a-41b2-b966-17fc55b86205",
   "metadata": {},
   "outputs": [
    {
     "data": {
      "text/plain": [
       "['edunet', 3, 10, 2, 4.5, 'class', 'class', 'object']"
      ]
     },
     "execution_count": 101,
     "metadata": {},
     "output_type": "execute_result"
    }
   ],
   "source": [
    "list.append(\"object\")\n",
    "list"
   ]
  },
  {
   "cell_type": "code",
   "execution_count": 103,
   "id": "7a252898-e44d-4e61-b929-13c3797a9aef",
   "metadata": {},
   "outputs": [
    {
     "data": {
      "text/plain": [
       "'object'"
      ]
     },
     "execution_count": 103,
     "metadata": {},
     "output_type": "execute_result"
    }
   ],
   "source": [
    "list.pop()"
   ]
  },
  {
   "cell_type": "code",
   "execution_count": 105,
   "id": "c8105e06-0647-4c9c-bb08-8a184af4bb56",
   "metadata": {},
   "outputs": [
    {
     "data": {
      "text/plain": [
       "'class'"
      ]
     },
     "execution_count": 105,
     "metadata": {},
     "output_type": "execute_result"
    }
   ],
   "source": [
    "list.pop()"
   ]
  },
  {
   "cell_type": "code",
   "execution_count": 107,
   "id": "12d38fa5-b481-4560-9a11-35793d8dfe40",
   "metadata": {},
   "outputs": [
    {
     "data": {
      "text/plain": [
       "['edunet', 3, 10, 2, 4.5, 'class']"
      ]
     },
     "execution_count": 107,
     "metadata": {},
     "output_type": "execute_result"
    }
   ],
   "source": [
    "list"
   ]
  },
  {
   "cell_type": "code",
   "execution_count": 109,
   "id": "6008515c-7f88-4763-a935-dff5dc11b118",
   "metadata": {},
   "outputs": [
    {
     "data": {
      "text/plain": [
       "list"
      ]
     },
     "execution_count": 109,
     "metadata": {},
     "output_type": "execute_result"
    }
   ],
   "source": [
    "type(list)"
   ]
  },
  {
   "cell_type": "code",
   "execution_count": 111,
   "id": "3a47f898-f384-44e5-ab41-e2df92e76402",
   "metadata": {},
   "outputs": [
    {
     "data": {
      "text/plain": [
       "'edunet'"
      ]
     },
     "execution_count": 111,
     "metadata": {},
     "output_type": "execute_result"
    }
   ],
   "source": [
    "list.pop(0)"
   ]
  },
  {
   "cell_type": "code",
   "execution_count": 113,
   "id": "ec601e84-1ca2-4d0e-95e5-0aadafec0d30",
   "metadata": {},
   "outputs": [
    {
     "data": {
      "text/plain": [
       "[3, 10, 2, 4.5, 'class']"
      ]
     },
     "execution_count": 113,
     "metadata": {},
     "output_type": "execute_result"
    }
   ],
   "source": [
    "list"
   ]
  },
  {
   "cell_type": "code",
   "execution_count": 117,
   "id": "ec80b582-5770-442f-9298-d83458342c30",
   "metadata": {},
   "outputs": [
    {
     "data": {
      "text/plain": [
       "[3, 10, 2, 'watermelon', 4.5, 'class']"
      ]
     },
     "execution_count": 117,
     "metadata": {},
     "output_type": "execute_result"
    }
   ],
   "source": [
    "list.insert(3,\"watermelon\")\n",
    "list"
   ]
  },
  {
   "cell_type": "code",
   "execution_count": 163,
   "id": "43eb9f7b-2922-4401-87b7-0082212fa137",
   "metadata": {},
   "outputs": [
    {
     "name": "stdout",
     "output_type": "stream",
     "text": [
      "dict_keys(['name', 'model'])\n",
      "dict_keys(['name', 'model', 'color'])\n"
     ]
    }
   ],
   "source": [
    "#Dictionary in python\n",
    "cars={\n",
    "    \"name\":\"Ford\",\n",
    "    \"model\":\"Mustang\"\n",
    "\n",
    "}\n",
    "x=cars.keys()\n",
    "print(x)\n",
    "cars[\"color\"]=\"white\"\n",
    "print(x)\n",
    "\n",
    "    "
   ]
  },
  {
   "cell_type": "code",
   "execution_count": 144,
   "id": "29d26614-9951-4c87-9f3a-cb587ebddb63",
   "metadata": {},
   "outputs": [
    {
     "data": {
      "text/plain": [
       "'F'"
      ]
     },
     "execution_count": 144,
     "metadata": {},
     "output_type": "execute_result"
    }
   ],
   "source": [
    "cars[\"name\"][0]"
   ]
  },
  {
   "cell_type": "code",
   "execution_count": 157,
   "id": "a081a63b-0ff4-4e04-a575-32750546f541",
   "metadata": {},
   "outputs": [
    {
     "data": {
      "text/plain": [
       "{'name': 'FordFERRARIFERRARIFERRARIbugati', 'model': 'Mustang'}"
      ]
     },
     "execution_count": 157,
     "metadata": {},
     "output_type": "execute_result"
    }
   ],
   "source": [
    "cars[\"name\"]=cars[\"name\"]+\"bugati\"\n",
    "cars"
   ]
  },
  {
   "cell_type": "code",
   "execution_count": 165,
   "id": "9bbc757d-a8f2-4f4e-b1ab-fb56d9e2a878",
   "metadata": {},
   "outputs": [],
   "source": [
    "#TUPELS IN PYTHON\n",
    "tup=(\"apple, banana, mango\")\n"
   ]
  },
  {
   "cell_type": "code",
   "execution_count": 167,
   "id": "7d40c145-dcf5-4564-832e-45d9723876a8",
   "metadata": {},
   "outputs": [
    {
     "data": {
      "text/plain": [
       "'apple, banana, mango'"
      ]
     },
     "execution_count": 167,
     "metadata": {},
     "output_type": "execute_result"
    }
   ],
   "source": [
    "tup"
   ]
  },
  {
   "cell_type": "code",
   "execution_count": 169,
   "id": "724b05ca-3f35-4849-b5dc-1c3a04d23f53",
   "metadata": {},
   "outputs": [
    {
     "data": {
      "text/plain": [
       "'o'"
      ]
     },
     "execution_count": 169,
     "metadata": {},
     "output_type": "execute_result"
    }
   ],
   "source": [
    "tup[-1]"
   ]
  },
  {
   "cell_type": "code",
   "execution_count": 171,
   "id": "adeb20e8-3ded-428e-9f2b-584f73238639",
   "metadata": {},
   "outputs": [
    {
     "data": {
      "text/plain": [
       "'n'"
      ]
     },
     "execution_count": 171,
     "metadata": {},
     "output_type": "execute_result"
    }
   ],
   "source": [
    "tup[-3]"
   ]
  },
  {
   "cell_type": "code",
   "execution_count": 175,
   "id": "0e708082-fcf3-45b9-a24f-960ae6887d4c",
   "metadata": {},
   "outputs": [
    {
     "data": {
      "text/plain": [
       "str"
      ]
     },
     "execution_count": 175,
     "metadata": {},
     "output_type": "execute_result"
    }
   ],
   "source": [
    "type(tup)"
   ]
  },
  {
   "cell_type": "code",
   "execution_count": 177,
   "id": "7e7ae5b3-16a0-4960-b4f8-5b48bc0a7649",
   "metadata": {},
   "outputs": [
    {
     "name": "stdout",
     "output_type": "stream",
     "text": [
      "ap\n"
     ]
    }
   ],
   "source": [
    "print(tup[0:2])"
   ]
  },
  {
   "cell_type": "code",
   "execution_count": 181,
   "id": "2fc235e3-06cb-403b-802d-4bfe8f275973",
   "metadata": {},
   "outputs": [
    {
     "data": {
      "text/plain": [
       "{'apple', 'banana', 'cherry'}"
      ]
     },
     "execution_count": 181,
     "metadata": {},
     "output_type": "execute_result"
    }
   ],
   "source": [
    "#sets in python\": NO DUPLICATES IN SET\n",
    "thisset = {\"apple\", \"banana\", \"cherry\"}\n",
    "thisset\n"
   ]
  },
  {
   "cell_type": "code",
   "execution_count": 183,
   "id": "148c6ea9-abda-45ab-ad9b-b37f36f8d373",
   "metadata": {},
   "outputs": [
    {
     "name": "stdout",
     "output_type": "stream",
     "text": [
      "True\n"
     ]
    }
   ],
   "source": [
    "print(\"banana\" in thisset)"
   ]
  },
  {
   "cell_type": "code",
   "execution_count": 187,
   "id": "4d7342cb-79b8-487b-a95c-e0bd85bf2dba",
   "metadata": {},
   "outputs": [
    {
     "data": {
      "text/plain": [
       "{'apple', 'banana', 'cherry', 'strawberry'}"
      ]
     },
     "execution_count": 187,
     "metadata": {},
     "output_type": "execute_result"
    }
   ],
   "source": [
    "thisset.add(\"strawberry\")\n",
    "thisset"
   ]
  },
  {
   "cell_type": "code",
   "execution_count": 195,
   "id": "d07a74a2-8e7f-4c4c-bca1-9ef3f50a4907",
   "metadata": {},
   "outputs": [
    {
     "name": "stdout",
     "output_type": "stream",
     "text": [
      "not same\n"
     ]
    }
   ],
   "source": [
    "x=\"welcome to wit\"\n",
    "y=\"welcome to solapur\"\n",
    "if x==y:\n",
    "    print(\"X and y are same\")\n",
    "elif x!=y :\n",
    "    print(\"not same\")\n",
    "else:\n",
    "    print(\"check the statements\")"
   ]
  },
  {
   "cell_type": "code",
   "execution_count": 7,
   "id": "91c71f7f-4727-4d06-8a68-ac9293182efd",
   "metadata": {},
   "outputs": [
    {
     "ename": "KeyboardInterrupt",
     "evalue": "Interrupted by user",
     "output_type": "error",
     "traceback": [
      "\u001b[1;31m---------------------------------------------------------------------------\u001b[0m",
      "\u001b[1;31mKeyboardInterrupt\u001b[0m                         Traceback (most recent call last)",
      "Cell \u001b[1;32mIn[7], line 2\u001b[0m\n\u001b[0;32m      1\u001b[0m \u001b[38;5;66;03m#if elif else\u001b[39;00m\n\u001b[1;32m----> 2\u001b[0m a\u001b[38;5;241m=\u001b[39m\u001b[38;5;28mint\u001b[39m(\u001b[38;5;28minput\u001b[39m(\u001b[38;5;124m\"\u001b[39m\u001b[38;5;124menter 1st no.\u001b[39m\u001b[38;5;124m\"\u001b[39m))\n\u001b[0;32m      3\u001b[0m b\u001b[38;5;241m=\u001b[39m\u001b[38;5;28mint\u001b[39m(\u001b[38;5;28minput\u001b[39m(\u001b[38;5;124m\"\u001b[39m\u001b[38;5;124menter 2nd no.\u001b[39m\u001b[38;5;124m\"\u001b[39m))\n\u001b[0;32m      4\u001b[0m c\u001b[38;5;241m=\u001b[39m\u001b[38;5;28mint\u001b[39m(\u001b[38;5;28minput\u001b[39m(\u001b[38;5;124m\"\u001b[39m\u001b[38;5;124menter 3rd no.\u001b[39m\u001b[38;5;124m\"\u001b[39m))\n",
      "File \u001b[1;32m~\\anaconda3\\Lib\\site-packages\\ipykernel\\kernelbase.py:1262\u001b[0m, in \u001b[0;36mKernel.raw_input\u001b[1;34m(self, prompt)\u001b[0m\n\u001b[0;32m   1260\u001b[0m     msg \u001b[38;5;241m=\u001b[39m \u001b[38;5;124m\"\u001b[39m\u001b[38;5;124mraw_input was called, but this frontend does not support input requests.\u001b[39m\u001b[38;5;124m\"\u001b[39m\n\u001b[0;32m   1261\u001b[0m     \u001b[38;5;28;01mraise\u001b[39;00m StdinNotImplementedError(msg)\n\u001b[1;32m-> 1262\u001b[0m \u001b[38;5;28;01mreturn\u001b[39;00m \u001b[38;5;28mself\u001b[39m\u001b[38;5;241m.\u001b[39m_input_request(\n\u001b[0;32m   1263\u001b[0m     \u001b[38;5;28mstr\u001b[39m(prompt),\n\u001b[0;32m   1264\u001b[0m     \u001b[38;5;28mself\u001b[39m\u001b[38;5;241m.\u001b[39m_parent_ident[\u001b[38;5;124m\"\u001b[39m\u001b[38;5;124mshell\u001b[39m\u001b[38;5;124m\"\u001b[39m],\n\u001b[0;32m   1265\u001b[0m     \u001b[38;5;28mself\u001b[39m\u001b[38;5;241m.\u001b[39mget_parent(\u001b[38;5;124m\"\u001b[39m\u001b[38;5;124mshell\u001b[39m\u001b[38;5;124m\"\u001b[39m),\n\u001b[0;32m   1266\u001b[0m     password\u001b[38;5;241m=\u001b[39m\u001b[38;5;28;01mFalse\u001b[39;00m,\n\u001b[0;32m   1267\u001b[0m )\n",
      "File \u001b[1;32m~\\anaconda3\\Lib\\site-packages\\ipykernel\\kernelbase.py:1305\u001b[0m, in \u001b[0;36mKernel._input_request\u001b[1;34m(self, prompt, ident, parent, password)\u001b[0m\n\u001b[0;32m   1302\u001b[0m \u001b[38;5;28;01mexcept\u001b[39;00m \u001b[38;5;167;01mKeyboardInterrupt\u001b[39;00m:\n\u001b[0;32m   1303\u001b[0m     \u001b[38;5;66;03m# re-raise KeyboardInterrupt, to truncate traceback\u001b[39;00m\n\u001b[0;32m   1304\u001b[0m     msg \u001b[38;5;241m=\u001b[39m \u001b[38;5;124m\"\u001b[39m\u001b[38;5;124mInterrupted by user\u001b[39m\u001b[38;5;124m\"\u001b[39m\n\u001b[1;32m-> 1305\u001b[0m     \u001b[38;5;28;01mraise\u001b[39;00m \u001b[38;5;167;01mKeyboardInterrupt\u001b[39;00m(msg) \u001b[38;5;28;01mfrom\u001b[39;00m \u001b[38;5;28;01mNone\u001b[39;00m\n\u001b[0;32m   1306\u001b[0m \u001b[38;5;28;01mexcept\u001b[39;00m \u001b[38;5;167;01mException\u001b[39;00m:\n\u001b[0;32m   1307\u001b[0m     \u001b[38;5;28mself\u001b[39m\u001b[38;5;241m.\u001b[39mlog\u001b[38;5;241m.\u001b[39mwarning(\u001b[38;5;124m\"\u001b[39m\u001b[38;5;124mInvalid Message:\u001b[39m\u001b[38;5;124m\"\u001b[39m, exc_info\u001b[38;5;241m=\u001b[39m\u001b[38;5;28;01mTrue\u001b[39;00m)\n",
      "\u001b[1;31mKeyboardInterrupt\u001b[0m: Interrupted by user"
     ]
    }
   ],
   "source": [
    "#if elif else\n",
    "a=int(input(\"enter 1st no.\"))\n",
    "b=int(input(\"enter 2nd no.\"))\n",
    "c=int(input(\"enter 3rd no.\"))\n",
    "      \n",
    "if a>b and a>c:\n",
    "      print(\"a is the greatest\")\n",
    "elif b>c and b>a:\n",
    "     print(\"b is the greatest\")\n",
    "else:\n",
    "    print(\"c is the greatest\")\n",
    "    "
   ]
  },
  {
   "cell_type": "code",
   "execution_count": 53,
   "id": "c4738fb8-bc44-4a93-b18b-f4c023cd260c",
   "metadata": {},
   "outputs": [
    {
     "name": "stdin",
     "output_type": "stream",
     "text": [
      "Enter the number of units consumed:  300\n"
     ]
    },
    {
     "name": "stdout",
     "output_type": "stream",
     "text": [
      "Total electricity bill for 300 units: Rs. 800\n",
      "For Salary: ₹4500000, Savings: ₹150000 -> Tax to be paid: ₹985000.00\n",
      "For Salary: ₹6200000, Savings: ₹350000 -> Tax to be paid: ₹1480000.00\n",
      "Total interest earned in 1 year on ₹6500000: ₹1045000.0\n"
     ]
    }
   ],
   "source": [
    "# Electricity Bill Calculation\n",
    "\n",
    "def calculate_electricity_bill(units):\n",
    "    if units <= 200:\n",
    "        bill = 0\n",
    "    elif units <= 500:\n",
    "        bill = (units - 200) * 8\n",
    "    elif units <= 1000:\n",
    "        bill = (300 * 8) + (units - 500) * 11\n",
    "    else:\n",
    "        bill = (300 * 8) + (500 * 11) + (units - 1000) * 14\n",
    "    \n",
    "    return bill\n",
    "\n",
    "units = int(input(\"Enter the number of units consumed: \"))\n",
    "bill_amount = calculate_electricity_bill(units)\n",
    "\n",
    "print(f\"Total electricity bill for {units} units: Rs. {bill_amount}\")\n",
    "\n",
    "\n"
   ]
  },
  {
   "cell_type": "code",
   "execution_count": 55,
   "id": "2ed1fd20-562f-4c8f-a4d0-2da2c79a005d",
   "metadata": {},
   "outputs": [
    {
     "name": "stdout",
     "output_type": "stream",
     "text": [
      "For Salary: ₹4500000, Savings: ₹150000 -> Tax to be paid: ₹985000.00\n",
      "For Salary: ₹6200000, Savings: ₹350000 -> Tax to be paid: ₹1480000.00\n"
     ]
    }
   ],
   "source": [
    "\n",
    "\n",
    "#2nd code\n",
    "def calculate_tax(salary, savings):\n",
    "    deductible_savings = min(savings, 200000)\n",
    "    taxable_salary = salary - deductible_savings\n",
    "\n",
    "    if taxable_salary <= 1000000:\n",
    "        return taxable_salary * 0.10\n",
    "    elif taxable_salary <= 2200000:\n",
    "        return 100000 + (taxable_salary - 1000000) * 0.20\n",
    "    else:\n",
    "        return 340000 + (taxable_salary - 2200000) * 0.30\n",
    "\n",
    "# Eg:\n",
    "salaries_savings = [(4500000, 150000), (6200000, 350000)]\n",
    "\n",
    "for salary, savings in salaries_savings:\n",
    "    tax = calculate_tax(salary, savings)\n",
    "    print(f\"For Salary: ₹{salary}, Savings: ₹{savings} -> Tax to be paid: ₹{tax:.2f}\")\n",
    "\n",
    "\n"
   ]
  },
  {
   "cell_type": "code",
   "execution_count": 57,
   "id": "11382647-266a-48ec-a9f1-8172e71acebe",
   "metadata": {},
   "outputs": [
    {
     "name": "stdout",
     "output_type": "stream",
     "text": [
      "Total interest earned in 1 year on ₹6500000: ₹1045000.0\n"
     ]
    }
   ],
   "source": [
    "#3rd code\n",
    "def calculate_fd_interest(amount, years=1):\n",
    "    first_limit = 10_00_000  \n",
    "    second_limit = 15_00_000 \n",
    "    remaining_limit = amount - (first_limit + second_limit)\n",
    "    \n",
    "    interest_first = first_limit * 0.10 * years  \n",
    "    interest_second = second_limit * 0.15 * years \n",
    "    interest_remaining = remaining_limit * 0.18 * years  \n",
    "    \n",
    "    total_interest = interest_first + interest_second + interest_remaining\n",
    "    \n",
    "    return total_interest\n",
    "\n",
    "# Total FD amount\n",
    "fd_amount = 65_00_000\n",
    "interest_earned = calculate_fd_interest(fd_amount, 1)  \n",
    "print(f\"Total interest earned in 1 year on ₹{fd_amount}: ₹{interest_earned}\")\n",
    "\n"
   ]
  },
  {
   "cell_type": "code",
   "execution_count": 87,
   "id": "7db5ac00-5271-4159-b793-36e28cad975b",
   "metadata": {},
   "outputs": [
    {
     "name": "stdin",
     "output_type": "stream",
     "text": [
      "Enter a number:  5\n"
     ]
    },
    {
     "name": "stdout",
     "output_type": "stream",
     "text": [
      "5 is a prime number.\n"
     ]
    }
   ],
   "source": [
    "num = int(input(\"Enter a number: \"))\n",
    "\n",
    "if num < 2:\n",
    "    print(f\"{num} is not a prime number.\")\n",
    "else:\n",
    "    for i in range(2, num):  # Loop from 2 to num-1\n",
    "        if num % i == 0:\n",
    "            print(f\"{num} is not a prime number.\")\n",
    "            break  # Exit loop if a divisor is found\n",
    "    else:\n",
    "        print(f\"{num} is a prime number.\")  # This runs only if loop completes without a break\n"
   ]
  },
  {
   "cell_type": "code",
   "execution_count": 101,
   "id": "ba04f322-aad8-4e44-99ae-9713fb11f296",
   "metadata": {},
   "outputs": [
    {
     "name": "stdin",
     "output_type": "stream",
     "text": [
      "Enter a number:  45\n"
     ]
    },
    {
     "name": "stdout",
     "output_type": "stream",
     "text": [
      "45 is NOT an Armstrong number.\n"
     ]
    }
   ],
   "source": [
    "# Take user input\n",
    "num = int(input(\"Enter a number: \"))\n",
    "temp = num\n",
    "sum_of_digits = 0\n",
    "n = len(str(num)) \n",
    "\n",
    "while temp > 0:\n",
    "    digit = temp % 10  \n",
    "    sum_of_digits += digit ** n  \n",
    "    temp //= 10 \n",
    "\n",
    "if sum_of_digits == num:\n",
    "    print(f\"{num} is an Armstrong number.\")\n",
    "else:\n",
    "    print(f\"{num} is NOT an Armstrong number.\")\n"
   ]
  },
  {
   "cell_type": "code",
   "execution_count": 123,
   "id": "ab46bfc8-b499-438c-b61e-fc64b3744004",
   "metadata": {},
   "outputs": [
    {
     "name": "stdin",
     "output_type": "stream",
     "text": [
      "enter start no. 1\n",
      "enter end no. 20\n"
     ]
    },
    {
     "name": "stdout",
     "output_type": "stream",
     "text": [
      "2\n",
      "3\n",
      "5\n",
      "7\n",
      "11\n",
      "13\n",
      "17\n",
      "19\n",
      "\n"
     ]
    }
   ],
   "source": [
    "start=int(input(\"enter start no.\"))\n",
    "end= int(input(\"enter end no.\"))\n",
    "for num in range(start, end+1):\n",
    "        if num>1:\n",
    "            for i in range(2,num):\n",
    "                if num % i==0:\n",
    "                   break\n",
    "            else:\n",
    "                    print(num)\n",
    "print()\n"
   ]
  },
  {
   "cell_type": "code",
   "execution_count": 161,
   "id": "f4bcc4a3-fcf8-4b20-a937-6a6ac4430bd6",
   "metadata": {},
   "outputs": [
    {
     "ename": "NameError",
     "evalue": "name 'numbers' is not defined",
     "output_type": "error",
     "traceback": [
      "\u001b[1;31m---------------------------------------------------------------------------\u001b[0m",
      "\u001b[1;31mNameError\u001b[0m                                 Traceback (most recent call last)",
      "Cell \u001b[1;32mIn[161], line 2\u001b[0m\n\u001b[0;32m      1\u001b[0m \u001b[38;5;66;03m# Ascending order sorting using for loop\u001b[39;00m\n\u001b[1;32m----> 2\u001b[0m asc_list \u001b[38;5;241m=\u001b[39m numbers[:]  \u001b[38;5;66;03m# Copy original list\u001b[39;00m\n\u001b[0;32m      3\u001b[0m \u001b[38;5;28;01mfor\u001b[39;00m i \u001b[38;5;129;01min\u001b[39;00m \u001b[38;5;28mrange\u001b[39m(\u001b[38;5;28mlen\u001b[39m(asc_list)):\n\u001b[0;32m      4\u001b[0m     \u001b[38;5;28;01mfor\u001b[39;00m j \u001b[38;5;129;01min\u001b[39;00m \u001b[38;5;28mrange\u001b[39m(i \u001b[38;5;241m+\u001b[39m \u001b[38;5;241m1\u001b[39m, \u001b[38;5;28mlen\u001b[39m(asc_list)):\n",
      "\u001b[1;31mNameError\u001b[0m: name 'numbers' is not defined"
     ]
    }
   ],
   "source": [
    "# Ascending order sorting using for loop\n",
    "asc_list = numbers[:]  # Copy original list\n",
    "for i in range(len(asc_list)):\n",
    "    for j in range(i + 1, len(asc_list)):\n",
    "        if asc_list[i] > asc_list[j]:  # Swap if the element is greater\n",
    "            asc_list[i], asc_list[j] = asc_list[j], asc_list[i]\n",
    "\n",
    "# Descending order sorting using for loop\n",
    "desc_list = numbers[:]  # Copy original list\n",
    "for i in range(len(desc_list)):\n",
    "    for j in range(i + 1, len(desc_list)):\n",
    "        if desc_list[i] < desc_list[j]:  # Swap if the element is smaller\n",
    "            desc_list[i], desc_list[j] = desc_list[j], desc_list[i]\n",
    "\n",
    "# Display results\n",
    "print(\"Ascending Order:\", asc_list)\n",
    "print(\"Descending Order:\", desc_list)\n",
    "\n"
   ]
  },
  {
   "cell_type": "code",
   "execution_count": 155,
   "id": "5461d64d-b136-4605-b3aa-9cbca9072bc0",
   "metadata": {},
   "outputs": [
    {
     "ename": "NameError",
     "evalue": "name 'numbers' is not defined",
     "output_type": "error",
     "traceback": [
      "\u001b[1;31m---------------------------------------------------------------------------\u001b[0m",
      "\u001b[1;31mNameError\u001b[0m                                 Traceback (most recent call last)",
      "Cell \u001b[1;32mIn[155], line 1\u001b[0m\n\u001b[1;32m----> 1\u001b[0m desc_list \u001b[38;5;241m=\u001b[39m numbers[:]  \u001b[38;5;66;03m# Copy original list\u001b[39;00m\n\u001b[0;32m      2\u001b[0m \u001b[38;5;28;01mfor\u001b[39;00m i \u001b[38;5;129;01min\u001b[39;00m \u001b[38;5;28mrange\u001b[39m(\u001b[38;5;28mlen\u001b[39m(desc_list)):\n\u001b[0;32m      3\u001b[0m     \u001b[38;5;28;01mfor\u001b[39;00m j \u001b[38;5;129;01min\u001b[39;00m \u001b[38;5;28mrange\u001b[39m(i \u001b[38;5;241m+\u001b[39m \u001b[38;5;241m1\u001b[39m, \u001b[38;5;28mlen\u001b[39m(desc_list)):\n",
      "\u001b[1;31mNameError\u001b[0m: name 'numbers' is not defined"
     ]
    }
   ],
   "source": [
    "desc_list = numbers[:]  # Copy original list\n",
    "for i in range(len(desc_list)):\n",
    "    for j in range(i + 1, len(desc_list)):\n",
    "        if desc_list[i] < desc_list[j]:  # Swap if the element is smaller\n",
    "            desc_list[i], desc_list[j] = desc_list[j], desc_list[i]\n",
    "print(\"Descending Order:\", desc_list)\n",
    "\n"
   ]
  },
  {
   "cell_type": "code",
   "execution_count": 165,
   "id": "33551023-8ad6-4ba6-b69e-6896489e9eac",
   "metadata": {},
   "outputs": [
    {
     "name": "stdin",
     "output_type": "stream",
     "text": [
      "Enter a sentence:  walchand institute of tech\n"
     ]
    },
    {
     "name": "stdout",
     "output_type": "stream",
     "text": [
      "Input Sentence: walchand institute of tech\n",
      "Reversed Sentence: hcet fo etutitsni dnahclaw\n"
     ]
    }
   ],
   "source": [
    "sentence = input(\"Enter a sentence: \")\n",
    "print(\"Input Sentence:\", sentence)\n",
    "\n",
    "# Reverse the sentence\n",
    "def reverse_sentence(sentence):\n",
    "    reversed_str = \"\"\n",
    "    for ch in sentence[::-1]:\n",
    "        reversed_str += ch\n",
    "    return reversed_str\n",
    "reversed_sentence = reverse_sentence(sentence)\n",
    "print(\"Reversed Sentence:\", reversed_sentence)\n"
   ]
  },
  {
   "cell_type": "code",
   "execution_count": 7,
   "id": "a4ab1aa3-000a-4b93-8d7f-3f8bcf6a44e2",
   "metadata": {},
   "outputs": [
    {
     "name": "stdout",
     "output_type": "stream",
     "text": [
      "['WALCHAND', 'Insitute', 'of', 'technology', 'Solapur', 'Maharashtra']\n"
     ]
    }
   ],
   "source": [
    "#split in the string\n",
    "\n",
    "st= \"WALCHAND Insitute of technology Solapur Maharashtra\"\n",
    "word = st.split()\n",
    "print(word)\n",
    "\n"
   ]
  },
  {
   "cell_type": "code",
   "execution_count": 17,
   "id": "7a722c2a-0174-4085-b8c5-0f91bb45ce36",
   "metadata": {},
   "outputs": [
    {
     "name": "stdout",
     "output_type": "stream",
     "text": [
      "51\n"
     ]
    }
   ],
   "source": [
    "st= \"WALCHAND Insitute of technology Solapur Maharashtra\"\n",
    "word = len(st)\n",
    "print(word)"
   ]
  },
  {
   "cell_type": "code",
   "execution_count": 19,
   "id": "d696a865-3d60-4177-ba76-d9dacb45a862",
   "metadata": {},
   "outputs": [
    {
     "name": "stdout",
     "output_type": "stream",
     "text": [
      "vowels in list: ['i', 'u', 'e', 'o', 'e', 'o', 'o', 'o', 'a', 'u', 'a', 'a', 'a', 'a']\n"
     ]
    }
   ],
   "source": [
    "# \n",
    "st= \"WALCHAND Insitute of technology Solapur Maharashtra\"\n",
    "vowels=[\"a\",\"e\",\"i\",\"o\",\"u\"]\n",
    "vowel_list=[char for char in st if char in vowels]\n",
    "print(\"vowels in list:\",vowel_list)"
   ]
  },
  {
   "cell_type": "code",
   "execution_count": 37,
   "id": "ca87d62d-ec10-465d-8e6d-c75ad36ac0df",
   "metadata": {},
   "outputs": [
    {
     "name": "stdout",
     "output_type": "stream",
     "text": [
      "ACADIsiueo ehooySlprMhrsta\n"
     ]
    }
   ],
   "source": [
    "#odd char in string\n",
    "st = \"WALCHAND Institute of technology Solapur Maharashtra\"\n",
    "odd_index_chars = \"\".join([st[i] for i in range(1, len(st), 2)])  # Collect odd index characters\n",
    "print(odd_index_chars)\n"
   ]
  },
  {
   "cell_type": "code",
   "execution_count": 47,
   "id": "71002801-c75b-4e29-9902-61024470bbc3",
   "metadata": {},
   "outputs": [
    {
     "name": "stdout",
     "output_type": "stream",
     "text": [
      "ACADIsiueo ehooySlprMhrsta\n"
     ]
    }
   ],
   "source": [
    "#acccess even no. char in python\n",
    "st = \"WALCHAND Institute of technology Solapur Maharashtra\"\n",
    "even_index=st[1:len(st):2]\n",
    "print(even_index)"
   ]
  },
  {
   "cell_type": "code",
   "execution_count": 51,
   "id": "7d5cb2cd-6e83-49b9-857e-3cf4844a1d53",
   "metadata": {},
   "outputs": [
    {
     "name": "stdout",
     "output_type": "stream",
     "text": [
      "arthsarahaM rupaloS ygolonhcet fo etutitsnI DNAHCLAW\n"
     ]
    }
   ],
   "source": [
    "#reverse a string\n",
    "st = \"WALCHAND Institute of technology Solapur Maharashtra\"\n",
    "word=st[::-1]\n",
    "print(word)"
   ]
  },
  {
   "cell_type": "code",
   "execution_count": 61,
   "id": "f452459d-8e13-42c7-b533-f575ca217dc9",
   "metadata": {},
   "outputs": [
    {
     "name": "stdout",
     "output_type": "stream",
     "text": [
      "arthsarahaM rupaloS ygolonhcet fo etutitsnI DNAHCLAW\n"
     ]
    }
   ],
   "source": [
    "#reverse string using for loop\n",
    "st = \"WALCHAND Institute of technology Solapur Maharashtra\"\n",
    "reverse_chars = \"\".join([st[i] for i in range( len(st)-1,-1, -1)])\n",
    "print(reverse_chars)"
   ]
  },
  {
   "cell_type": "code",
   "execution_count": 1,
   "id": "89f2466b-9552-4377-8679-81159c6876c1",
   "metadata": {},
   "outputs": [
    {
     "name": "stdout",
     "output_type": "stream",
     "text": [
      "WALCHAND Institute of technology Solapur Maharashtra\n"
     ]
    }
   ],
   "source": [
    "st=\"WALCHAND Institute of technology Solapur Maharashtra\"\n",
    "replace=st.replace(\"a\",\"*\")\n",
    "print(st)"
   ]
  },
  {
   "cell_type": "code",
   "execution_count": null,
   "id": "77e832df-7195-433b-a532-cc14f580c00c",
   "metadata": {},
   "outputs": [],
   "source": []
  }
 ],
 "metadata": {
  "kernelspec": {
   "display_name": "Python 3 (ipykernel)",
   "language": "python",
   "name": "python3"
  },
  "language_info": {
   "codemirror_mode": {
    "name": "ipython",
    "version": 3
   },
   "file_extension": ".py",
   "mimetype": "text/x-python",
   "name": "python",
   "nbconvert_exporter": "python",
   "pygments_lexer": "ipython3",
   "version": "3.12.4"
  }
 },
 "nbformat": 4,
 "nbformat_minor": 5
}
