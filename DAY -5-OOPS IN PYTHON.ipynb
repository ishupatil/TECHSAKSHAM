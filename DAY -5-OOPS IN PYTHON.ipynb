{
 "cells": [
  {
   "cell_type": "code",
   "execution_count": 13,
   "id": "31e23930-55c0-45b3-81e0-661b889caf34",
   "metadata": {},
   "outputs": [
    {
     "name": "stdout",
     "output_type": "stream",
     "text": [
      "name: rahul\n",
      "age: 32\n"
     ]
    }
   ],
   "source": [
    "#basic  constructor and object calling\n",
    "\n",
    "class Human:\n",
    "    def __init__(self,name,age,alive=True):#constructor\n",
    "        self.name=name\n",
    "        self.age=age\n",
    "        self.alive=alive\n",
    "    def display(self):#method\n",
    "        print(\"name:\",h1.name)\n",
    "        print(\"age:\",h1.age)\n",
    "h1=Human(\"rahul\",32)\n",
    "h1.display()       \n",
    "        "
   ]
  },
  {
   "cell_type": "code",
   "execution_count": 109,
   "id": "6cd81c89-549c-4a33-a21a-8f37101a7557",
   "metadata": {},
   "outputs": [],
   "source": [
    "class Human:\n",
    "    population=0 #class variables \n",
    "    data=[]\n",
    "    \n",
    "    def __init__(self,name,age,alive=True):#constructor\n",
    "        self.name=name\n",
    "        self.age=age\n",
    "        self.alive=alive\n",
    "        \n",
    "        Human.population+=1\n",
    "        if self.name not in Human.data:\n",
    "           Human.data.append(self.name)\n",
    "    def greet(self):\n",
    "        print(f\"My name is {self.name}.Good Morning\")\n",
    "    def dead(self):\n",
    "        if self.alive:\n",
    "           print(self.name,\"is no more now\")\n",
    "           Human.population-=1\n",
    "           if self.name in Human.data:\n",
    "                Human.data.remove(self.name)\n",
    "           \n",
    "           self.alive=False\n",
    "        else:\n",
    "            print(\"The person is already dead\")\n",
    "    def child(self,num=None):\n",
    "        if num is not None:\n",
    "           Human.population+=num\n",
    "        \n",
    "        \n",
    "        \n",
    "    def display(self):\n",
    "        print(f\"population:{Human.population}\")\n",
    "        print(f\"data:{Human.data}\")\n",
    "        \n",
    "        "
   ]
  },
  {
   "cell_type": "code",
   "execution_count": 111,
   "id": "bb7cc9e3-5466-4529-98e2-19dbce03cadb",
   "metadata": {},
   "outputs": [
    {
     "name": "stdout",
     "output_type": "stream",
     "text": [
      "My name is Rahul.Good Morning\n",
      "My name is amit.Good Morning\n",
      "amit is no more now\n",
      "The person is already dead\n"
     ]
    }
   ],
   "source": [
    "r1 = Human(\"Rahul\", 32)\n",
    "r2=Human(\"amit\",24)\n",
    "r1.greet()\n",
    "r2.greet()\n",
    "r2.dead()\n",
    "r2.dead()\n"
   ]
  },
  {
   "cell_type": "code",
   "execution_count": 113,
   "id": "d83d69af-0f8d-4b4a-9115-8202f78ed6f4",
   "metadata": {},
   "outputs": [
    {
     "name": "stdout",
     "output_type": "stream",
     "text": [
      "population:4\n",
      "data:['Rahul']\n"
     ]
    }
   ],
   "source": [
    "  \n",
    "r1.child(3)  \n",
    "r1.display()  \n",
    "\n"
   ]
  },
  {
   "cell_type": "code",
   "execution_count": null,
   "id": "7b73cb8f-26fa-478f-82ce-64c4139ab03f",
   "metadata": {},
   "outputs": [],
   "source": [
    "class Person:\n",
    "    def __init__(self,fname,lname):\n",
    "        self.fname=fname\n",
    "        self.lname=lname\n",
    "    def displayname(self):\n",
    "        print(f\"My name is:{self.fname}+{self.lname}\")\n",
    "class Student:\n",
    "    def __init__(self,fname,lname,year):\n",
    "        super().__init__(fname,lanme):\n",
    "        self.year=year\n",
    "    def welcome(self):\n",
    "        print(f\"Welcome\",self.fname,self.lname,\"to the graduation year\",self.year)\n",
    "h1=Student()\n",
    "        \n",
    "    \n",
    "        \n",
    "        \n",
    "\n"
   ]
  },
  {
   "cell_type": "code",
   "execution_count": null,
   "id": "eb5cb28f-7aed-4eea-a647-c762b8bf27b0",
   "metadata": {},
   "outputs": [],
   "source": []
  }
 ],
 "metadata": {
  "kernelspec": {
   "display_name": "Python 3 (ipykernel)",
   "language": "python",
   "name": "python3"
  },
  "language_info": {
   "codemirror_mode": {
    "name": "ipython",
    "version": 3
   },
   "file_extension": ".py",
   "mimetype": "text/x-python",
   "name": "python",
   "nbconvert_exporter": "python",
   "pygments_lexer": "ipython3",
   "version": "3.12.4"
  }
 },
 "nbformat": 4,
 "nbformat_minor": 5
}
