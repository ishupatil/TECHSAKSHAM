{
 "cells": [
  {
   "cell_type": "code",
   "execution_count": 1,
   "id": "e5b38087-7dca-4e15-b2d3-850559db8603",
   "metadata": {},
   "outputs": [
    {
     "name": "stdout",
     "output_type": "stream",
     "text": [
      "26\n"
     ]
    }
   ],
   "source": [
    "#counting the string characters using for loop\n",
    "str=\"walchand institute of tech\"\n",
    "count=0\n",
    "for i in str:\n",
    "    count=count+1\n",
    "print(count)\n",
    "    "
   ]
  },
  {
   "cell_type": "code",
   "execution_count": 7,
   "id": "288a8287-70e4-43aa-a9cb-5d689d32f927",
   "metadata": {},
   "outputs": [
    {
     "name": "stdout",
     "output_type": "stream",
     "text": [
      "WALCHAND INSTITUTE OF TECH\n"
     ]
    }
   ],
   "source": [
    "#coverting the string to uppercase\n",
    "\n",
    "str=\"walchand institute of tech\"\n",
    "new=\"\"\n",
    "for i in str:\n",
    "     new+=i.upper()\n",
    "print(new)"
   ]
  },
  {
   "cell_type": "code",
   "execution_count": 11,
   "id": "c197e8ea-ecc3-41c7-8e73-5cade63cc73e",
   "metadata": {},
   "outputs": [
    {
     "name": "stdout",
     "output_type": "stream",
     "text": [
      "walchand institute of tech\n"
     ]
    }
   ],
   "source": [
    "#Converting string to lowercase\n",
    "str=\"WALCHAND institute of tech\"\n",
    "new_str=\"\"\n",
    "for i in str:\n",
    "    new_str+=i.lower()\n",
    "print(new_str)"
   ]
  },
  {
   "cell_type": "code",
   "execution_count": 17,
   "id": "279e2e18-8975-4ca7-ab71-9e1ff6cf1fd3",
   "metadata": {},
   "outputs": [
    {
     "name": "stdout",
     "output_type": "stream",
     "text": [
      "4\n"
     ]
    }
   ],
   "source": [
    "\n",
    "\n",
    "def my_len(iterable):\n",
    "    count = 0\n",
    "    for _ in iterable:\n",
    "        count += 1\n",
    "    return count\n",
    "\n",
    "print(my_len([1, 2, 3, 4]))  # Output: 4\n",
    "\n"
   ]
  },
  {
   "cell_type": "code",
   "execution_count": null,
   "id": "3d43bb01-3d7a-4d3a-8650-97b7adf724e9",
   "metadata": {},
   "outputs": [],
   "source": [
    "##str=input(\"enter a string \")\n",
    "i=0\n",
    "while i<len(str) and i<6:\n",
    "    i+=1\n",
    "else:\n",
    "    print(\"length of string exceeds\")"
   ]
  },
  {
   "cell_type": "code",
   "execution_count": 7,
   "id": "5788a1ed-76b0-4352-ac51-ac31028f868c",
   "metadata": {},
   "outputs": [
    {
     "name": "stdin",
     "output_type": "stream",
     "text": [
      "Enter a number:  3\n"
     ]
    },
    {
     "name": "stdout",
     "output_type": "stream",
     "text": [
      "3 is  a prime\n"
     ]
    }
   ],
   "source": [
    "num = int(input(\"Enter a number: \"))  # Take user input\n",
    "i = 2  # Start checking from 2\n",
    "while i<num:\n",
    "    if num%i==0:\n",
    "        print (f\"{num} is not prime\")\n",
    "        break\n",
    "    i=i+1\n",
    "else:\n",
    "    print(f\"{num} is  a prime\")\n",
    "    \n",
    "    \n",
    "\n",
    "    \n"
   ]
  },
  {
   "cell_type": "code",
   "execution_count": 3,
   "id": "909ed5c6-5a08-44cd-b414-b97589e1d990",
   "metadata": {},
   "outputs": [
    {
     "name": "stdout",
     "output_type": "stream",
     "text": [
      "3\n",
      "17\n",
      "29\n",
      "37\n"
     ]
    }
   ],
   "source": [
    "numbers = [3, 8, 17, 21, 29, 33, 37]  # List of numbers\n",
    "index = 0  # Initialize index\n",
    "\n",
    "while index < len(numbers):  # Iterate through the list\n",
    "    num = numbers[index]  # Get current number\n",
    "    i = 2  # Start divisor check from 2\n",
    "    is_prime = True  # Assume the number is prime\n",
    "\n",
    "    while i < num:  # Check divisibility from 2 to num-1\n",
    "        if num % i == 0:\n",
    "            is_prime = False  # Found a divisor, not prime\n",
    "            break  # Exit loop early\n",
    "        i += 1\n",
    "    else:\n",
    "        print(num)  # Executes only if while loop completes (i.e., prime number)\n",
    "\n",
    "    index += 1  # Move to the next number\n",
    "\n"
   ]
  },
  {
   "cell_type": "code",
   "execution_count": 5,
   "id": "e93e314f-358a-46b3-999c-354ad3371217",
   "metadata": {},
   "outputs": [
    {
     "name": "stdout",
     "output_type": "stream",
     "text": [
      "3\n",
      "17\n",
      "29\n",
      "37\n"
     ]
    }
   ],
   "source": [
    "numbers = [3, 8, 17, 21, 29, 33, 37]  # List of numbers\n",
    "index = 0  # Start index\n",
    "\n",
    "while index < len(numbers):  # Loop through each number in the list\n",
    "    num = numbers[index]  # Get the current number\n",
    "    i = 2  # Start checking from 2\n",
    "\n",
    "    while i <= int(num ** 0.5):  # Check divisibility up to sqrt(num)\n",
    "        if num % i == 0:  # If divisible, it's not prime\n",
    "            break\n",
    "        i += 1\n",
    "    else:\n",
    "        print(num)  # If no break occurs, it's a prime number\n",
    "\n",
    "    index += 1 \n"
   ]
  },
  {
   "cell_type": "code",
   "execution_count": 22,
   "id": "13acb8a6-f124-48ff-bfa2-8b9e55f0bbc5",
   "metadata": {},
   "outputs": [
    {
     "name": "stdin",
     "output_type": "stream",
     "text": [
      "Enter start number:  1\n",
      "Enter end number:  30\n"
     ]
    },
    {
     "name": "stdout",
     "output_type": "stream",
     "text": [
      "2\n",
      "3\n",
      "5\n",
      "7\n",
      "11\n",
      "13\n",
      "17\n",
      "19\n",
      "23\n",
      "29\n"
     ]
    }
   ],
   "source": [
    "start = int(input(\"Enter start number: \"))\n",
    "end = int(input(\"Enter end number: \"))\n",
    "\n",
    "num = start \n",
    "\n",
    "while num <= end:  # Iterate from start to end\n",
    "    if num > 1:  # Prime numbers are greater than 1\n",
    "        i = 2  # Start checking from 2\n",
    "        \n",
    "        while i < num:  # Check divisibility from 2 to num-1\n",
    "            if num % i == 0:  # If divisible, it's not prime\n",
    "                break  # Exit loop early\n",
    "            i += 1\n",
    "        else:  # This runs if the while loop completes (i.e., num is prime)\n",
    "            print(num)  \n",
    "    \n",
    "    num += 1  # Move to the next number\n"
   ]
  },
  {
   "cell_type": "code",
   "execution_count": 26,
   "id": "0c41216f-647f-4f18-87ee-29d7903c9e3d",
   "metadata": {},
   "outputs": [
    {
     "name": "stdin",
     "output_type": "stream",
     "text": [
      "enter a string i am \n"
     ]
    },
    {
     "name": "stdout",
     "output_type": "stream",
     "text": [
      "Reversed string:  ma i\n"
     ]
    }
   ],
   "source": [
    "str=input(\"enter a string\")\n",
    "reverse=\"\"\n",
    "index=len(str)-1\n",
    "while index>=0:\n",
    "    reverse+=str[index]\n",
    "    index -=1\n",
    "else:\n",
    "    print (\"Reversed string:\",reverse)"
   ]
  },
  {
   "cell_type": "code",
   "execution_count": null,
   "id": "16c89e56-325c-4fb6-97a5-26db88371c4b",
   "metadata": {},
   "outputs": [],
   "source": []
  }
 ],
 "metadata": {
  "kernelspec": {
   "display_name": "Python 3 (ipykernel)",
   "language": "python",
   "name": "python3"
  },
  "language_info": {
   "codemirror_mode": {
    "name": "ipython",
    "version": 3
   },
   "file_extension": ".py",
   "mimetype": "text/x-python",
   "name": "python",
   "nbconvert_exporter": "python",
   "pygments_lexer": "ipython3",
   "version": "3.12.4"
  }
 },
 "nbformat": 4,
 "nbformat_minor": 5
}
