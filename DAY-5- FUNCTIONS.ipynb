{
 "cells": [
  {
   "cell_type": "code",
   "execution_count": 1,
   "id": "b3613ec7-8058-4102-a1a2-cbf9e2652954",
   "metadata": {},
   "outputs": [
    {
     "name": "stdout",
     "output_type": "stream",
     "text": [
      "hello world\n"
     ]
    }
   ],
   "source": [
    "def function():\n",
    "    print(\"hello world\")\n",
    "function()"
   ]
  },
  {
   "cell_type": "code",
   "execution_count": 5,
   "id": "72a230e2-453b-4ad5-8b43-8743da356b78",
   "metadata": {},
   "outputs": [
    {
     "name": "stdout",
     "output_type": "stream",
     "text": [
      "The youngest child is Linus\n"
     ]
    }
   ],
   "source": [
    "#arbitrary arguments\n",
    "\n",
    "def my_function(*kids):\n",
    "  print(\"The youngest child is \" + kids[2])\n",
    "\n",
    "my_function(\"Emil\", \"Tobias\", \"Linus\")\n"
   ]
  },
  {
   "cell_type": "code",
   "execution_count": 11,
   "id": "50ee7109-e8c2-4aad-ac7f-be20c6aafc68",
   "metadata": {},
   "outputs": [
    {
     "name": "stdout",
     "output_type": "stream",
     "text": [
      "apple\n",
      "banana\n",
      "mango\n"
     ]
    }
   ],
   "source": [
    "def func(items):\n",
    "    for x in items:\n",
    "        print(x)\n",
    "fruits=[\"apple\",\"banana\",\"mango\"]\n",
    "func(fruits)"
   ]
  },
  {
   "cell_type": "code",
   "execution_count": 13,
   "id": "e734a0a1-73bc-400f-bfae-04a28a224b6a",
   "metadata": {},
   "outputs": [
    {
     "data": {
      "text/plain": [
       "7"
      ]
     },
     "execution_count": 13,
     "metadata": {},
     "output_type": "execute_result"
    }
   ],
   "source": [
    "def sum(a,b):\n",
    "    res=a+b\n",
    "    return res\n",
    "sum(3,4)\n"
   ]
  },
  {
   "cell_type": "code",
   "execution_count": 19,
   "id": "2d94caf9-7ba9-4708-9e01-6a5cfe785ef3",
   "metadata": {},
   "outputs": [
    {
     "name": "stdout",
     "output_type": "stream",
     "text": [
      "3is prime no.\n"
     ]
    }
   ],
   "source": [
    "def prime(n):\n",
    "\n",
    "  \n",
    "    for i in range (2,n):\n",
    "        if n%i==0:\n",
    "            print(f\"{n}is not a prime no\")\n",
    "        else:\n",
    "            print(f\"{n}is prime no.\")\n",
    "prime(3)\n",
    "        "
   ]
  },
  {
   "cell_type": "code",
   "execution_count": null,
   "id": "1129ca30-1e13-4fa8-b580-a67cf24181ac",
   "metadata": {},
   "outputs": [],
   "source": []
  }
 ],
 "metadata": {
  "kernelspec": {
   "display_name": "Python 3 (ipykernel)",
   "language": "python",
   "name": "python3"
  },
  "language_info": {
   "codemirror_mode": {
    "name": "ipython",
    "version": 3
   },
   "file_extension": ".py",
   "mimetype": "text/x-python",
   "name": "python",
   "nbconvert_exporter": "python",
   "pygments_lexer": "ipython3",
   "version": "3.12.4"
  }
 },
 "nbformat": 4,
 "nbformat_minor": 5
}
