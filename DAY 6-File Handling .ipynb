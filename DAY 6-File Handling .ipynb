{
 "cells": [
  {
   "cell_type": "code",
   "execution_count": 21,
   "id": "d51377a6-3201-4dfc-aaaf-bffbabe98b18",
   "metadata": {},
   "outputs": [
    {
     "name": "stdout",
     "output_type": "stream",
     "text": [
      "HII my name is isha\n"
     ]
    }
   ],
   "source": [
    "with open(\"file.txt\",'r') as file:\n",
    "  content = file.read()\n",
    "  print(content)"
   ]
  },
  {
   "cell_type": "code",
   "execution_count": 23,
   "id": "2da771a0-5e54-49a3-87ca-fcbe2084f4d9",
   "metadata": {},
   "outputs": [
    {
     "name": "stdout",
     "output_type": "stream",
     "text": [
      "Python is \n"
     ]
    }
   ],
   "source": [
    "with open(\"file.txt\",'r') as file:\n",
    "    content=file.read(10)\n",
    "    print(content)"
   ]
  },
  {
   "cell_type": "code",
   "execution_count": 25,
   "id": "d1d10f22-67cb-419d-8e71-071b041717b8",
   "metadata": {},
   "outputs": [
    {
     "name": "stdout",
     "output_type": "stream",
     "text": [
      "Python is a powerful and versatile programming language known for its simplicity and readability. It is widely used in web development, data science, artificial intelligence, automation, and more. With its extensive libraries and frameworks, Python makes complex tasks easier to implement. It supports multiple programming paradigms, including procedural, object-oriented, and functional programming. Python's dynamic typing and automatic memory management enhance development efficiency. Its strong community and vast documentation make it an excellent choice for beginners and professionals alike. Whether you're building web applications, analyzing data, or developing AI models, Python provides the tools and flexibility needed for modern software development. \n"
     ]
    }
   ],
   "source": [
    "with open(\"file.txt\",'r') as file:\n",
    "    line1=file.readline()\n",
    "    line2=file.readline()\n",
    "    print(line1,line2)"
   ]
  },
  {
   "cell_type": "code",
   "execution_count": 27,
   "id": "a58b7ec4-e8e7-45cb-bbdc-92446e66e762",
   "metadata": {},
   "outputs": [
    {
     "name": "stdout",
     "output_type": "stream",
     "text": [
      "[\"Python is a powerful and versatile programming language known for its simplicity and readability. It is widely used in web development, data science, artificial intelligence, automation, and more. With its extensive libraries and frameworks, Python makes complex tasks easier to implement. It supports multiple programming paradigms, including procedural, object-oriented, and functional programming. Python's dynamic typing and automatic memory management enhance development efficiency. Its strong community and vast documentation make it an excellent choice for beginners and professionals alike. Whether you're building web applications, analyzing data, or developing AI models, Python provides the tools and flexibility needed for modern software development.\"]\n"
     ]
    }
   ],
   "source": [
    "with open(\"file.txt\", \"r\") as file:\n",
    "    lines = file.readlines()  # Returns a list of all lines\n",
    "    print(lines)\n"
   ]
  },
  {
   "cell_type": "code",
   "execution_count": 44,
   "id": "12e1bbb2-5c78-495a-82a8-55f2874d590a",
   "metadata": {},
   "outputs": [],
   "source": [
    "with open(\"file.txt\", \"w\") as file:\n",
    "    file.write(\"Hello, World!\\n\")\n",
    "    file.write(\"This is a new line.\")\n"
   ]
  },
  {
   "cell_type": "code",
   "execution_count": 46,
   "id": "ede613f4-0e86-4df9-9282-e0086468047f",
   "metadata": {},
   "outputs": [],
   "source": [
    "with open(\"file.txt\",\"a\") as file:\n",
    "    file.write(\"\\n Appending a new line\")"
   ]
  },
  {
   "cell_type": "code",
   "execution_count": 1,
   "id": "5ed97c8a-1f43-4863-8641-7464f2c16cc1",
   "metadata": {},
   "outputs": [],
   "source": [
    "lines=[\"Python is a powerful and versatile programming language \\n known for its simplicity and readability. It is widely used in web development, data science, artificial intelligence, automation, and more. With its extensive libraries and frameworks, Python makes complex tasks easier to implement.\\n It supports multiple programming paradigms, including procedural, object-oriented, and functional programming. Python's dynamic typing and automatic memory management enhance development efficiency.\\n Its strong community and vast documentation make it an excellent choice for beginners and professionals alike.\\n Whether you're building web applications, analyzing data, or developing AI models, Python provides the tools and flexibility needed for modern software development.\"]\n",
    "with open(\"file.txt\",\"w\") as file:\n",
    "    file.writelines(lines)\n"
   ]
  },
  {
   "cell_type": "code",
   "execution_count": null,
   "id": "6d224297-8819-4e6e-b2f9-a7ec835e9e84",
   "metadata": {},
   "outputs": [],
   "source": [
    "with open(\"file.txt\")"
   ]
  }
 ],
 "metadata": {
  "kernelspec": {
   "display_name": "Python 3 (ipykernel)",
   "language": "python",
   "name": "python3"
  },
  "language_info": {
   "codemirror_mode": {
    "name": "ipython",
    "version": 3
   },
   "file_extension": ".py",
   "mimetype": "text/x-python",
   "name": "python",
   "nbconvert_exporter": "python",
   "pygments_lexer": "ipython3",
   "version": "3.12.4"
  }
 },
 "nbformat": 4,
 "nbformat_minor": 5
}
